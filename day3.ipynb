{
 "cells": [
  {
   "attachments": {},
   "cell_type": "markdown",
   "metadata": {},
   "source": [
    "## Topics of the day\n",
    "1. Lambdas\n",
    "2. Map, filter, reduce\n",
    "3. Concatenating lists\n",
    "4. Shallow vs Deep Copy\n",
    "4. Recursion"
   ]
  },
  {
   "attachments": {},
   "cell_type": "markdown",
   "metadata": {},
   "source": [
    "## Lambdas"
   ]
  },
  {
   "cell_type": "code",
   "execution_count": null,
   "metadata": {},
   "outputs": [
    {
     "name": "stdout",
     "output_type": "stream",
     "text": [
      "[8, 9, 10, 11, 12, 13]\n"
     ]
    }
   ],
   "source": [
    "# Quick way to creating functions without names (anonymous functions)\n",
    "ls = [5,6,7,8,9,10]\n",
    "print(list(map(lambda x: x + 3, ls)))"
   ]
  },
  {
   "attachments": {},
   "cell_type": "markdown",
   "metadata": {},
   "source": [
    "## Map, Filter, Reduce"
   ]
  },
  {
   "cell_type": "code",
   "execution_count": null,
   "metadata": {},
   "outputs": [
    {
     "name": "stdout",
     "output_type": "stream",
     "text": [
      "[4, 5, 6, 7, 8]\n",
      "[1, 2, 3]\n",
      "sum 15\n"
     ]
    }
   ],
   "source": [
    "# Map\n",
    "arr = [1,2,3,4,5]\n",
    "\n",
    "def my_func(x):\n",
    "    return x + 3\n",
    "\n",
    "new_arr = list(map(my_func, arr))\n",
    "print(new_arr)\n",
    "\n",
    "def filter_func(x):\n",
    "    return x <= 3 \n",
    "# Filter\n",
    "filtered_arr = list(filter(filter_func, arr))\n",
    "print(filtered_arr)\n",
    "\n",
    "# reduce\n",
    "import functools\n",
    "\n",
    "def reducer(acc, x):\n",
    "    return acc + x\n",
    "\n",
    "sum = functools.reduce(reducer, arr)\n",
    "print(\"sum\", sum)\n"
   ]
  },
  {
   "attachments": {},
   "cell_type": "markdown",
   "metadata": {},
   "source": [
    "## Concatenating Lists"
   ]
  },
  {
   "cell_type": "code",
   "execution_count": 9,
   "metadata": {},
   "outputs": [
    {
     "name": "stdout",
     "output_type": "stream",
     "text": [
      "[1, 2, 3, 4, 5, 6, 7]\n"
     ]
    }
   ],
   "source": [
    "a = [1,2,3]\n",
    "b = [4,5,6]\n",
    "c = a + b\n",
    "d = c + [7]\n",
    "print(d)"
   ]
  },
  {
   "attachments": {},
   "cell_type": "markdown",
   "metadata": {},
   "source": [
    "## Shallow vs Deep Copy\n",
    "- Value vs Reference"
   ]
  },
  {
   "cell_type": "code",
   "execution_count": 24,
   "metadata": {},
   "outputs": [
    {
     "name": "stdout",
     "output_type": "stream",
     "text": [
      "[5, 2, 3] [5, 2, 3]\n",
      "original [[1, 100], 5, 5]\n",
      "shallow [[1, 100], 10, 5]\n",
      "deep [[1, 5000], 5, 5]\n",
      "4643865472\n",
      "4643865472\n",
      "4643840768\n"
     ]
    }
   ],
   "source": [
    "# Value vs Reference\n",
    "q = 5\n",
    "w = q\n",
    "w = 10\n",
    "# what is the value of w and q?\n",
    "\n",
    "e = [1,2,3]\n",
    "r = e\n",
    "r[0] = 5\n",
    "# what is the value of e and r?\n",
    "\n",
    "\n",
    "# Shallow vs Deep Copy\n",
    "a = [[1,2],3,5]\n",
    "f = a\n",
    "f[1] = 5\n",
    "\n",
    "import copy\n",
    "shallow_copy = copy.copy(a)\n",
    "deep_copy = copy.deepcopy(a)\n",
    "\n",
    "shallow_copy[1] = 10\n",
    "shallow_copy[0][1] = 100\n",
    "deep_copy[0][1] = 5000\n",
    "print(\"original\", a)\n",
    "print(\"shallow\", shallow_copy)\n",
    "print(\"deep\", deep_copy)\n",
    "print(id(shallow_copy[0]))\n",
    "print(id(a[0]))\n",
    "print(id(deep_copy[0]))\n"
   ]
  },
  {
   "attachments": {},
   "cell_type": "markdown",
   "metadata": {},
   "source": [
    "## Recursion\n",
    "- Recursion means \"defining a problem in terms of itself\". This can be a very powerful tool in writing algorithms. \n",
    "- Recursion comes directly from Mathematics, where there are many examples of expressions written in terms of themselves. \n",
    "    - For example, the Fibonacci sequence is defined as: F(i) = F(i-1) + F(i-2)"
   ]
  },
  {
   "cell_type": "code",
   "execution_count": 2,
   "metadata": {},
   "outputs": [
    {
     "name": "stdout",
     "output_type": "stream",
     "text": [
      "5\n"
     ]
    }
   ],
   "source": [
    "# 1, 1, 2, 3, 5, 8, 13\n",
    "def fib(n):\n",
    "    if n <= 1:\n",
    "        return n\n",
    "    return fib(n-1) + fib(n-2)\n",
    "\n",
    "print(fib(5))"
   ]
  },
  {
   "attachments": {},
   "cell_type": "markdown",
   "metadata": {},
   "source": [
    "## Exercise\n",
    "- determine if a string is a palindrome"
   ]
  },
  {
   "cell_type": "code",
   "execution_count": null,
   "metadata": {},
   "outputs": [
    {
     "name": "stdout",
     "output_type": "stream",
     "text": [
      "200\n"
     ]
    }
   ],
   "source": [
    "def is_palindrome(s):\n",
    "    if len(s) <= 1:\n",
    "        return True\n",
    "    return s[0] == s[-1] and is_palindrome(s[1::-2])\n",
    "\n",
    "is_palindrome(\"heh\")\n",
    "\n",
    "arr = [4,100,2,200,3]\n",
    "def getMax(arr):\n",
    "    if len(arr) == 0:\n",
    "        return 0\n",
    "    return max(arr[0], getMax(arr[1:]))\n",
    "\n",
    "print(getMax(arr))"
   ]
  },
  {
   "attachments": {},
   "cell_type": "markdown",
   "metadata": {},
   "source": [
    "## Homework\n",
    "- Implement map, filter and reduce using recursion"
   ]
  },
  {
   "cell_type": "code",
   "execution_count": 25,
   "metadata": {},
   "outputs": [
    {
     "name": "stdout",
     "output_type": "stream",
     "text": [
      "[]\n"
     ]
    }
   ],
   "source": [
    "def my_map(f, arr):\n",
    "    if len(arr) == 0:\n",
    "        return []\n",
    "    return [f(arr[0])] + my_map(f, arr[1:])\n",
    "\n",
    "# my_map(lambda x: x + 1, [1,2,3])\n",
    "kk = [2,3,4]"
   ]
  },
  {
   "cell_type": "code",
   "execution_count": null,
   "metadata": {},
   "outputs": [],
   "source": []
  }
 ],
 "metadata": {
  "kernelspec": {
   "display_name": "Python 3",
   "language": "python",
   "name": "python3"
  },
  "language_info": {
   "codemirror_mode": {
    "name": "ipython",
    "version": 3
   },
   "file_extension": ".py",
   "mimetype": "text/x-python",
   "name": "python",
   "nbconvert_exporter": "python",
   "pygments_lexer": "ipython3",
   "version": "3.11.0"
  },
  "orig_nbformat": 4
 },
 "nbformat": 4,
 "nbformat_minor": 2
}
