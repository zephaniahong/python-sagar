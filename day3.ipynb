{
 "cells": [
  {
   "cell_type": "code",
   "execution_count": null,
   "metadata": {},
   "outputs": [],
   "source": []
  },
  {
   "attachments": {},
   "cell_type": "markdown",
   "metadata": {},
   "source": [
    "## Lambdas"
   ]
  },
  {
   "cell_type": "code",
   "execution_count": null,
   "metadata": {},
   "outputs": [
    {
     "name": "stdout",
     "output_type": "stream",
     "text": [
      "[8, 9, 10, 11, 12, 13]\n"
     ]
    }
   ],
   "source": [
    "# Quick way to creating functions without names (anonymous functions)\n",
    "ls = [5,6,7,8,9,10]\n",
    "print(list(map(lambda x: x + 3, ls)))"
   ]
  },
  {
   "attachments": {},
   "cell_type": "markdown",
   "metadata": {},
   "source": [
    "## Map, Filter, Reduce"
   ]
  },
  {
   "cell_type": "code",
   "execution_count": null,
   "metadata": {},
   "outputs": [
    {
     "name": "stdout",
     "output_type": "stream",
     "text": [
      "[4, 5, 6, 7, 8]\n",
      "[1, 2, 3]\n",
      "sum 15\n"
     ]
    }
   ],
   "source": [
    "# Map\n",
    "arr = [1,2,3,4,5]\n",
    "\n",
    "def my_func(x):\n",
    "    return x + 3\n",
    "\n",
    "new_arr = list(map(my_func, arr))\n",
    "print(new_arr)\n",
    "\n",
    "def filter_func(x):\n",
    "    return x <= 3 \n",
    "# Filter\n",
    "filtered_arr = list(filter(filter_func, arr))\n",
    "print(filtered_arr)\n",
    "\n",
    "# reduce\n",
    "import functools\n",
    "\n",
    "def reducer(acc, x):\n",
    "    return acc + x\n",
    "\n",
    "sum = functools.reduce(reducer, arr)\n",
    "print(\"sum\", sum)\n"
   ]
  },
  {
   "attachments": {},
   "cell_type": "markdown",
   "metadata": {},
   "source": [
    "## Recursion\n",
    "- Recursion means \"defining a problem in terms of itself\". This can be a very powerful tool in writing algorithms. \n",
    "- Recursion comes directly from Mathematics, where there are many examples of expressions written in terms of themselves. \n",
    "    - For example, the Fibonacci sequence is defined as: F(i) = F(i-1) + F(i-2)"
   ]
  },
  {
   "cell_type": "code",
   "execution_count": null,
   "metadata": {},
   "outputs": [
    {
     "name": "stdout",
     "output_type": "stream",
     "text": [
      "13\n"
     ]
    }
   ],
   "source": [
    "# 1, 1, 2, 3, 5, 8, 13\n",
    "def fib(n):\n",
    "    if n == 0:\n",
    "        return 0\n",
    "    elif n == 1 or n == 2: # base case\n",
    "        return 1\n",
    "    return fib(n-1) + fib(n-2)\n",
    "\n",
    "print(fib(7))"
   ]
  },
  {
   "attachments": {},
   "cell_type": "markdown",
   "metadata": {},
   "source": [
    "## Exercise\n",
    "- determine if a string is a palindrome"
   ]
  },
  {
   "cell_type": "code",
   "execution_count": null,
   "metadata": {},
   "outputs": [
    {
     "name": "stdout",
     "output_type": "stream",
     "text": [
      "200\n"
     ]
    }
   ],
   "source": [
    "def is_palindrome(s):\n",
    "    if len(s) <= 1:\n",
    "        return True\n",
    "    return s[0] == s[-1] and is_palindrome(s[1::-2])\n",
    "\n",
    "is_palindrome(\"heh\")\n",
    "\n",
    "arr = [4,100,2,200,3]\n",
    "def getMax(arr):\n",
    "    if len(arr) == 0:\n",
    "        return 0\n",
    "    return max(arr[0], getMax(arr[1:]))\n",
    "\n",
    "print(getMax(arr))"
   ]
  },
  {
   "attachments": {},
   "cell_type": "markdown",
   "metadata": {},
   "source": [
    "## Homework\n",
    "- Implement map, filter and reduce using recursion"
   ]
  }
 ],
 "metadata": {
  "language_info": {
   "name": "python"
  },
  "orig_nbformat": 4
 },
 "nbformat": 4,
 "nbformat_minor": 2
}
