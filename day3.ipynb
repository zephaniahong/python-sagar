{
 "cells": [
  {
   "attachments": {},
   "cell_type": "markdown",
   "metadata": {},
   "source": [
    "## Topics of the day\n",
    "1. Lambdas\n",
    "2. Map, filter, reduce\n",
    "3. Concatenating lists\n",
    "4. Shallow vs Deep Copy\n",
    "4. Recursion"
   ]
  },
  {
   "attachments": {},
   "cell_type": "markdown",
   "metadata": {},
   "source": [
    "## Lambdas"
   ]
  },
  {
   "cell_type": "code",
   "execution_count": 19,
   "metadata": {},
   "outputs": [
    {
     "data": {
      "text/plain": [
       "<map at 0x10669f9d0>"
      ]
     },
     "execution_count": 19,
     "metadata": {},
     "output_type": "execute_result"
    }
   ],
   "source": [
    "# Quick way to creating functions without names (anonymous functions)\n",
    "ls = [5,6,7,8,9,10]\n",
    "map(lambda chicken: chicken + 3, ls)\n",
    "\n",
    "# print(list(filter(lambda x: x >= 8, ls)))"
   ]
  },
  {
   "attachments": {},
   "cell_type": "markdown",
   "metadata": {},
   "source": [
    "## Map, Filter, Reduce"
   ]
  },
  {
   "cell_type": "code",
   "execution_count": 14,
   "metadata": {},
   "outputs": [
    {
     "name": "stdout",
     "output_type": "stream",
     "text": [
      "[4, 5, 6, 7, 8]\n"
     ]
    }
   ],
   "source": [
    "# Map\n",
    "arr = [3,4,5,6,7]\n",
    "\n",
    "# iterative \n",
    "# declarative\n",
    "\n",
    "arr1 = []\n",
    "for x in range(len(arr)):\n",
    "    arr1.append(arr[x] + 1)\n",
    "\n",
    "def add_one(chicken):\n",
    "    return chicken + 1\n",
    "\n",
    "new_arr = list(map(add_one, arr))\n",
    "print(new_arr)\n",
    "# new_arr = list(map(my_func, arr))\n"
   ]
  },
  {
   "cell_type": "code",
   "execution_count": 17,
   "metadata": {},
   "outputs": [
    {
     "name": "stdout",
     "output_type": "stream",
     "text": [
      "[5, 6, 7, 8, 9]\n",
      "[7, 8, 9]\n"
     ]
    }
   ],
   "source": [
    "arr = [5,6,7,8,9]\n",
    "\n",
    "3 > 5 # false\n",
    "def filter_func(num):\n",
    "    # keep numbers that are greater than 3\n",
    "    return num >= 7\n",
    "\n",
    "filtered_arr = list(filter(filter_func, arr))\n",
    "print(arr)\n",
    "print(filtered_arr)\n",
    "\n",
    "\n",
    "# reduce\n",
    "# import functools\n",
    "\n",
    "# def reducer(acc, x):\n",
    "#     return acc + x\n",
    "\n",
    "# sum = functools.reduce(reducer, arr)\n",
    "# print(\"sum\", sum)"
   ]
  },
  {
   "attachments": {},
   "cell_type": "markdown",
   "metadata": {},
   "source": [
    "## Concatenating Lists"
   ]
  },
  {
   "cell_type": "code",
   "execution_count": 24,
   "metadata": {},
   "outputs": [
    {
     "name": "stdout",
     "output_type": "stream",
     "text": [
      "[1, 2, 3]\n",
      "[1, 2, 3, 4, 5, 6, 7]\n"
     ]
    }
   ],
   "source": [
    "a = [1,2,3]\n",
    "b = [4,5,6]\n",
    "c = a + b\n",
    "# a.append(b)\n",
    "print(a)\n",
    "d = c + [7]\n",
    "print(d)"
   ]
  },
  {
   "attachments": {},
   "cell_type": "markdown",
   "metadata": {},
   "source": [
    "## Shallow vs Deep Copy\n",
    "- Value vs Reference"
   ]
  },
  {
   "cell_type": "code",
   "execution_count": 30,
   "metadata": {},
   "outputs": [
    {
     "name": "stdout",
     "output_type": "stream",
     "text": [
      "a:  [[1, 100], 3, 5]\n",
      "shallow copy:  [[1, 100], 10, 5]\n",
      "deep [[1, 5000], 3, 5]\n"
     ]
    }
   ],
   "source": [
    "# Value vs Reference\n",
    "q = 5\n",
    "w = q\n",
    "q = 10\n",
    "\n",
    "# both  10\n",
    "\n",
    "# what is the value of w and q?\n",
    "\n",
    "e = [1,2,3]\n",
    "r = e\n",
    "r[0] = 5\n",
    "# what is the value of e and r?\n",
    "\n",
    "\n",
    "# Shallow vs Deep Copy\n",
    "a = [[1,2],3,5]\n",
    "\n",
    "import copy\n",
    "shallow_copy = copy.copy(a)\n",
    "deep_copy = copy.deepcopy(a)\n",
    "\n",
    "shallow_copy[1] = 10\n",
    "shallow_copy[0][1] = 100\n",
    "print(\"a: \", a)\n",
    "print(\"shallow copy: \", shallow_copy)\n",
    "deep_copy[0][1] = 5000\n",
    "# print(\"original\", a)\n",
    "# print(\"shallow\", shallow_copy)\n",
    "print(\"deep\", deep_copy)\n",
    "# print(id(shallow_copy[0]))\n",
    "# print(id(a[0]))\n",
    "# print(id(deep_copy[0]))\n"
   ]
  },
  {
   "attachments": {},
   "cell_type": "markdown",
   "metadata": {},
   "source": [
    "## Recursion\n",
    "- Recursion means \"defining a problem in terms of itself\". This can be a very powerful tool in writing algorithms. \n",
    "- Recursion comes directly from Mathematics, where there are many examples of expressions written in terms of themselves. \n",
    "    - For example, the Fibonacci sequence is defined as: F(i) = F(i-1) + F(i-2)"
   ]
  },
  {
   "cell_type": "code",
   "execution_count": 31,
   "metadata": {},
   "outputs": [
    {
     "name": "stdout",
     "output_type": "stream",
     "text": [
      "5\n"
     ]
    }
   ],
   "source": [
    "# 1, 1, 2, 3, 5, 8, 13\n",
    "def fib(n):\n",
    "    if n <= 1:\n",
    "        return n\n",
    "    return fib(n-1) + fib(n-2)\n",
    "\n",
    "print(fib(5))"
   ]
  },
  {
   "attachments": {},
   "cell_type": "markdown",
   "metadata": {},
   "source": [
    "## Exercise\n",
    "- determine if a string is a palindrome"
   ]
  },
  {
   "cell_type": "code",
   "execution_count": 38,
   "metadata": {},
   "outputs": [
    {
     "name": "stdout",
     "output_type": "stream",
     "text": [
      "\n"
     ]
    }
   ],
   "source": [
    "s = \"hellh\"\n",
    "def is_palindrome(s):\n",
    "    if s == \"\":\n",
    "       return True\n",
    "\n",
    "    remaining_string_is_palindrome = is_palindrome(s[1:-1])\n",
    "    first_and_last = s[0] == s[-1]\n",
    "    return first_and_last and remaining_string_is_palindrome\n",
    "    \n",
    "\n",
    "is_palindrome(\"hehe\") # true or false\n",
    "\n",
    "h = \"be\"\n",
    "print(h[1:-1])\n"
   ]
  },
  {
   "cell_type": "code",
   "execution_count": 37,
   "metadata": {},
   "outputs": [
    {
     "name": "stdout",
     "output_type": "stream",
     "text": [
      "1000\n"
     ]
    }
   ],
   "source": [
    "\n",
    "arr = [4,1000,2,200,3]\n",
    "\n",
    "def getMax(arr):\n",
    "    if len(arr) == 0:\n",
    "        return 0\n",
    "    return max(arr[0], getMax(arr[1:]))\n",
    "\n",
    "def get_max(arr):\n",
    "    if len(arr) == 0:\n",
    "        return 0\n",
    "    curr = arr[0]\n",
    "    remaining_largest = get_max(arr[1:])\n",
    "    if curr > remaining_largest:\n",
    "        return curr\n",
    "    else:\n",
    "        return remaining_largest\n",
    "print(get_max(arr))"
   ]
  },
  {
   "attachments": {},
   "cell_type": "markdown",
   "metadata": {},
   "source": [
    "## Homework\n",
    "- Implement map and filter using recursion\n"
   ]
  },
  {
   "cell_type": "code",
   "execution_count": 25,
   "metadata": {},
   "outputs": [
    {
     "name": "stdout",
     "output_type": "stream",
     "text": [
      "[]\n"
     ]
    }
   ],
   "source": []
  },
  {
   "cell_type": "code",
   "execution_count": null,
   "metadata": {},
   "outputs": [],
   "source": []
  }
 ],
 "metadata": {
  "kernelspec": {
   "display_name": "Python 3",
   "language": "python",
   "name": "python3"
  },
  "language_info": {
   "codemirror_mode": {
    "name": "ipython",
    "version": 3
   },
   "file_extension": ".py",
   "mimetype": "text/x-python",
   "name": "python",
   "nbconvert_exporter": "python",
   "pygments_lexer": "ipython3",
   "version": "3.11.0"
  },
  "orig_nbformat": 4
 },
 "nbformat": 4,
 "nbformat_minor": 2
}
