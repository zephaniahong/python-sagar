{
 "cells": [
  {
   "attachments": {},
   "cell_type": "markdown",
   "metadata": {},
   "source": [
    "## Topics\n",
    "- Follow up on getting max value using for loop\n",
    "- Definite vs Indefinite Loops\n",
    "- Accumulator Design Pattern\n",
    "- Build a list and string using a loop\n",
    "- Read data from files"
   ]
  },
  {
   "cell_type": "code",
   "execution_count": 4,
   "metadata": {},
   "outputs": [
    {
     "name": "stdout",
     "output_type": "stream",
     "text": [
      "[1, 2]\n",
      "[1, 2, 5]\n",
      "[1, 2, 5, 5]\n",
      "[1, 2, 5, 5, 5]\n",
      "[1, 2, 5, 5]\n",
      "[1, 2, 5]\n",
      "[1, 2]\n",
      "[1]\n",
      "[1, 5]\n",
      "[1]\n",
      "[]\n"
     ]
    }
   ],
   "source": [
    "items = [1,2,3]\n",
    "while True:\n",
    "    if not items:\n",
    "        break\n",
    "    else:\n",
    "        add_items = input(\"would you like to add an item?\")\n",
    "        if add_items == \"yes\":\n",
    "            items.append(5)\n",
    "        else:\n",
    "            items.pop()\n",
    "        print(items)"
   ]
  },
  {
   "attachments": {},
   "cell_type": "markdown",
   "metadata": {},
   "source": [
    "## Accumulator Design Pattern"
   ]
  },
  {
   "cell_type": "code",
   "execution_count": 5,
   "metadata": {},
   "outputs": [
    {
     "name": "stdout",
     "output_type": "stream",
     "text": [
      "17\n"
     ]
    }
   ],
   "source": [
    "l = [5,1,6,5]\n",
    "sum_nums = 0\n",
    "\n",
    "for num in l:\n",
    "    sum_nums += num\n",
    "\n",
    "print(sum_nums)"
   ]
  },
  {
   "attachments": {},
   "cell_type": "markdown",
   "metadata": {},
   "source": [
    "## Building Lists and Strings"
   ]
  },
  {
   "cell_type": "code",
   "execution_count": null,
   "metadata": {},
   "outputs": [],
   "source": [
    "# Exercise: build a list with the numbers 1 to 100 in it\n",
    "# Exercise: build a string with letters a to z"
   ]
  },
  {
   "attachments": {},
   "cell_type": "markdown",
   "metadata": {},
   "source": [
    "## Reading Files"
   ]
  },
  {
   "cell_type": "code",
   "execution_count": 20,
   "metadata": {},
   "outputs": [
    {
     "name": "stdout",
     "output_type": "stream",
     "text": [
      "The price of AA is 9.22\n",
      "The price of AXP is 24.85\n",
      "The price of BA is 44.85\n",
      "The price of BAC is 11.27\n",
      "The price of C is 3.72\n",
      "The price of CAT is 35.46\n",
      "The price of CVX is 66.67\n",
      "The price of DD is 28.47\n",
      "The price of DIS is 24.22\n",
      "The price of GE is 13.48\n",
      "The price of GM is 0.75\n",
      "The price of HD is 23.16\n",
      "The price of HPQ is 34.35\n",
      "The price of IBM is 106.28\n",
      "The price of INTC is 15.72\n",
      "The price of JNJ is 55.16\n",
      "The price of JPM is 36.90\n",
      "The price of KFT is 26.11\n",
      "The price of KO is 49.16\n",
      "The price of MCD is 58.99\n",
      "The price of MMM is 57.10\n",
      "The price of MRK is 27.58\n",
      "The price of MSFT is 20.89\n",
      "The price of PFE is 15.19\n",
      "The price of PG is 51.94\n",
      "The price of T is 24.79\n",
      "The price of UTX is 52.61\n",
      "The price of VZ is 29.26\n",
      "The price of WMT is 49.74\n",
      "The price of XOM is 69.35\n"
     ]
    }
   ],
   "source": [
    "with open(\"./practical-python/Work/Data/prices.csv\") as f:\n",
    "    lines = f.readlines()\n",
    "    for line in lines:\n",
    "        line = line.strip()\n",
    "        [name, price] = line.split(',')\n",
    "        name = name.strip('\"')\n",
    "        print(f\"The price of {name} is {price}\")\n"
   ]
  },
  {
   "attachments": {},
   "cell_type": "markdown",
   "metadata": {},
   "source": [
    "## Exercise"
   ]
  },
  {
   "cell_type": "code",
   "execution_count": 10,
   "metadata": {},
   "outputs": [],
   "source": [
    "# Exercise: Read the portfolio.csv file and calculate the total value of the portfolio"
   ]
  },
  {
   "cell_type": "code",
   "execution_count": null,
   "metadata": {},
   "outputs": [],
   "source": []
  }
 ],
 "metadata": {
  "kernelspec": {
   "display_name": "Python 3",
   "language": "python",
   "name": "python3"
  },
  "language_info": {
   "codemirror_mode": {
    "name": "ipython",
    "version": 3
   },
   "file_extension": ".py",
   "mimetype": "text/x-python",
   "name": "python",
   "nbconvert_exporter": "python",
   "pygments_lexer": "ipython3",
   "version": "3.11.0"
  },
  "orig_nbformat": 4
 },
 "nbformat": 4,
 "nbformat_minor": 2
}
