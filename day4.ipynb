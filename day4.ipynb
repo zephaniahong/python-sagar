{
 "cells": [
  {
   "attachments": {},
   "cell_type": "markdown",
   "metadata": {},
   "source": [
    "## Topics\n",
    "- Follow up on getting max value using for loop\n",
    "- Passing function by reference\n",
    "- List comprehension\n",
    "- Nested loops\n",
    "- Nested lists\n",
    "- OOP\n",
    "    - Inheritance"
   ]
  },
  {
   "attachments": {},
   "cell_type": "markdown",
   "metadata": {},
   "source": [
    "## Function by Reference"
   ]
  },
  {
   "cell_type": "code",
   "execution_count": 3,
   "metadata": {},
   "outputs": [
    {
     "data": {
      "text/plain": [
       "6"
      ]
     },
     "execution_count": 3,
     "metadata": {},
     "output_type": "execute_result"
    }
   ],
   "source": [
    "def addOne(x):\n",
    "    return x + 1\n",
    "\n",
    "def help(x, f):\n",
    "    return f(x)\n",
    "\n",
    "help(5, addOne)"
   ]
  },
  {
   "attachments": {},
   "cell_type": "markdown",
   "metadata": {},
   "source": [
    "## Nested Loops and Lists"
   ]
  },
  {
   "cell_type": "code",
   "execution_count": 22,
   "metadata": {},
   "outputs": [
    {
     "name": "stdout",
     "output_type": "stream",
     "text": [
      "X\n",
      "O\n",
      "X\n",
      "O\n",
      "X\n",
      "X\n",
      "X\n",
      "X\n",
      "X\n"
     ]
    }
   ],
   "source": [
    "coords = [[\"X\", \"O\", \"X\"], [\"O\", \"X\", \"X\"], [\"X\", \"X\", \"X\"]]\n",
    "coords[0][2]\n",
    "\n",
    "for row in coords:\n",
    "    for col in row:\n",
    "        print(col)"
   ]
  },
  {
   "attachments": {},
   "cell_type": "markdown",
   "metadata": {},
   "source": [
    "## Exercise"
   ]
  },
  {
   "cell_type": "code",
   "execution_count": 23,
   "metadata": {},
   "outputs": [],
   "source": [
    "# coords with X's (0,5), (3, 4), (7,3), (9, 8)\n",
    "# create a 10x10 grid where only certain coords have X's and the rest have O's"
   ]
  },
  {
   "attachments": {},
   "cell_type": "markdown",
   "metadata": {},
   "source": [
    "## List Comprehension"
   ]
  },
  {
   "cell_type": "code",
   "execution_count": 34,
   "metadata": {},
   "outputs": [
    {
     "name": "stdout",
     "output_type": "stream",
     "text": [
      "[[0, 1, 2, 3, 4], [0, 1, 2, 3, 4], [0, 1, 2, 3, 4], [0, 1, 2, 3, 4], [0, 1, 2, 3, 4]]\n"
     ]
    }
   ],
   "source": [
    "fruits = [\"apple\", \"banana\", \"pear\", \"grapes\"]\n",
    "y = [x for x in range(5)]\n",
    "f = [fruit for fruit in fruits if fruit != \"apple\"]\n",
    "\n",
    "# nested lists\n",
    "x = [[num for num in range(5)] for _ in range(5)]\n",
    "print(x)"
   ]
  },
  {
   "attachments": {},
   "cell_type": "markdown",
   "metadata": {},
   "source": [
    "## Exercise"
   ]
  },
  {
   "cell_type": "code",
   "execution_count": 30,
   "metadata": {},
   "outputs": [
    {
     "name": "stdout",
     "output_type": "stream",
     "text": [
      "[0, 2, 4, 6, 8, 10, 12, 14, 16, 18]\n",
      "[[1, 3, 5, 7], [2, 4, 6, 8]]\n"
     ]
    }
   ],
   "source": [
    "# create a list with only even numbers from 1 - 20\n",
    "print([x for x in range(20) if x % 2 == 0])\n",
    "\n",
    "# transpose the list\n",
    "matrix = [[1, 2], [3,4], [5,6], [7,8]]"
   ]
  },
  {
   "attachments": {},
   "cell_type": "markdown",
   "metadata": {},
   "source": [
    "## Functional Programming\n",
    "- state is immutable\n"
   ]
  },
  {
   "cell_type": "code",
   "execution_count": 4,
   "metadata": {},
   "outputs": [
    {
     "name": "stdout",
     "output_type": "stream",
     "text": [
      "{'name': 'bob', 'age': 10, 'breed': 'shih tzu'}\n"
     ]
    }
   ],
   "source": [
    "def create_dog(name, age, breed):\n",
    "    return {\n",
    "        \"name\": name,\n",
    "        \"age\": age,\n",
    "        \"breed\": breed\n",
    "    }\n",
    "\n",
    "dog1 = create_dog(\"bob\", 5, \"shih tzu\")\n",
    "dog2 = create_dog(\"choco\", 12, \"husky\")\n",
    "\n",
    "def increment_age(dog, num_years):\n",
    "    return {\n",
    "        **dog,\n",
    "        \"age\": dog[\"age\"] + num_years\n",
    "    }\n",
    "\n",
    "dog1 = increment_age(dog1, 5)\n",
    "print(dog1)\n"
   ]
  },
  {
   "attachments": {},
   "cell_type": "markdown",
   "metadata": {},
   "source": [
    "## OOP\n",
    "- Class vs Object\n",
    "- the 'self' keyword\n",
    "- Class methods vs Instance methods\n",
    "- Inheritance\n",
    "- Attributes vs Methods"
   ]
  },
  {
   "cell_type": "code",
   "execution_count": 18,
   "metadata": {},
   "outputs": [
    {
     "name": "stdout",
     "output_type": "stream",
     "text": [
      "finnley is a labrador and is 4 years old\n",
      "finnley is a labrador and is 5 years old\n"
     ]
    },
    {
     "data": {
      "text/plain": [
       "True"
      ]
     },
     "execution_count": 18,
     "metadata": {},
     "output_type": "execute_result"
    }
   ],
   "source": [
    "class Animal:\n",
    "    living_thing = True\n",
    "    def __init__(self, name, age):\n",
    "        self.name = name\n",
    "        self.age = age\n",
    "\n",
    "    def increment_age(self):\n",
    "        self.age += 1\n",
    "\n",
    "class Dog(Animal):\n",
    "    def __init__(self, name, age, breed):\n",
    "        super().__init__(name, age)\n",
    "        self.breed = breed\n",
    "    \n",
    "    def test():\n",
    "        return \"booo\"\n",
    "    \n",
    "    def bark(self):\n",
    "        return \"Woof\"\n",
    "    \n",
    "    def __str__(self):\n",
    "        return f\"{self.name} is a {self.breed} and is {self.age} years old\" \n",
    "\n",
    "\n",
    "dog3 = Dog(\"finnley\", 4, \"labrador\")\n",
    "print(dog3)\n",
    "dog3.increment_age()\n",
    "print(dog3)\n",
    "dog3.bark()\n",
    "dog3.living_thing"
   ]
  },
  {
   "attachments": {},
   "cell_type": "markdown",
   "metadata": {},
   "source": [
    "## Implement "
   ]
  },
  {
   "attachments": {},
   "cell_type": "markdown",
   "metadata": {},
   "source": [
    "## Homework\n",
    "- Implement map and filter using recursion"
   ]
  },
  {
   "cell_type": "code",
   "execution_count": null,
   "metadata": {},
   "outputs": [],
   "source": []
  }
 ],
 "metadata": {
  "kernelspec": {
   "display_name": "Python 3",
   "language": "python",
   "name": "python3"
  },
  "language_info": {
   "codemirror_mode": {
    "name": "ipython",
    "version": 3
   },
   "file_extension": ".py",
   "mimetype": "text/x-python",
   "name": "python",
   "nbconvert_exporter": "python",
   "pygments_lexer": "ipython3",
   "version": "3.11.0"
  },
  "orig_nbformat": 4
 },
 "nbformat": 4,
 "nbformat_minor": 2
}
