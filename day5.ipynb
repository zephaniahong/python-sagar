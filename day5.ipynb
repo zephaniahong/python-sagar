{
 "cells": [
  {
   "attachments": {},
   "cell_type": "markdown",
   "metadata": {},
   "source": [
    "## Topics\n",
    "- Passing function by reference\n",
    "- Data type: Tuple\n",
    "- Destructuring\n",
    "- List comprehension\n",
    "- Nested loops\n",
    "- Nested lists\n",
    "- OOP\n",
    "    - Attributes\n",
    "    - Methods\n",
    "    - Inheritance"
   ]
  },
  {
   "cell_type": "markdown",
   "metadata": {},
   "source": [
    "## Quick note\n",
    "- To find out about the truth value about a value:\n",
    "```py\n",
    "bool([])\n",
    "x = 123\n",
    "bool(x)\n",
    "```"
   ]
  },
  {
   "attachments": {},
   "cell_type": "markdown",
   "metadata": {},
   "source": [
    "## Function by Reference"
   ]
  },
  {
   "cell_type": "code",
   "execution_count": 3,
   "metadata": {},
   "outputs": [
    {
     "name": "stdout",
     "output_type": "stream",
     "text": [
      "[6, 7, 8]\n"
     ]
    }
   ],
   "source": [
    "def addOne(x):\n",
    "    return x + 1\n",
    "\n",
    "def help(x, f):\n",
    "    return f(x)\n",
    "\n",
    "l = [1,2,3]\n",
    "\n",
    "def my_map(f, arr):\n",
    "    if len(arr) == 0:\n",
    "        return arr\n",
    "    return [f(arr[0])] + my_map(f, arr[1:])\n",
    "\n",
    "x = my_map(lambda x: x + 5, l)\n",
    "print(x)"
   ]
  },
  {
   "attachments": {},
   "cell_type": "markdown",
   "metadata": {},
   "source": [
    "## Nested Loops and Lists"
   ]
  },
  {
   "cell_type": "code",
   "execution_count": 10,
   "metadata": {},
   "outputs": [
    {
     "data": {
      "text/plain": [
       "'X'"
      ]
     },
     "execution_count": 10,
     "metadata": {},
     "output_type": "execute_result"
    }
   ],
   "source": [
    "coords = [[\"X\", \"O\", \"X\"], [\"O\", \"X\", \"X\"], [\"X\", \"X\", \"X\"]]\n",
    "coords[0][0]"
   ]
  },
  {
   "cell_type": "markdown",
   "metadata": {},
   "source": [
    "## <span style=\"color:skyblue\">Exercise</span>\n",
    "- print out all elements of the grid"
   ]
  },
  {
   "cell_type": "markdown",
   "metadata": {},
   "source": [
    "## Tuples\n",
    "- Similar to lists\n",
    "- immutable"
   ]
  },
  {
   "cell_type": "code",
   "execution_count": 8,
   "metadata": {},
   "outputs": [],
   "source": [
    "coord = (5,3)\n",
    "x_coord = coord[0]\n",
    "y_coord = coord[1]\n",
    "# x_coord[0] = 10 # error"
   ]
  },
  {
   "cell_type": "markdown",
   "metadata": {},
   "source": [
    "## Destructuring"
   ]
  },
  {
   "cell_type": "code",
   "execution_count": 9,
   "metadata": {},
   "outputs": [
    {
     "name": "stdout",
     "output_type": "stream",
     "text": [
      "1\n",
      "5 1\n"
     ]
    }
   ],
   "source": [
    "l = [1,2,3]\n",
    "coord = (5, 1)\n",
    "\n",
    "[f, s, t] = l\n",
    "(x, y) = coord\n",
    "print(f)\n",
    "print(x, y)"
   ]
  },
  {
   "attachments": {},
   "cell_type": "markdown",
   "metadata": {},
   "source": [
    "## <span style=\"color:skyblue\">Exercise</span>"
   ]
  },
  {
   "cell_type": "code",
   "execution_count": 4,
   "metadata": {},
   "outputs": [
    {
     "name": "stdout",
     "output_type": "stream",
     "text": [
      "O\n"
     ]
    }
   ],
   "source": [
    "# coords with X's (0,5), (3, 4), (7,3), (9, 8)\n",
    "# create a 10x10 grid where only certain coords have X's and the rest have O's"
   ]
  },
  {
   "attachments": {},
   "cell_type": "markdown",
   "metadata": {},
   "source": [
    "## List Comprehension"
   ]
  },
  {
   "cell_type": "code",
   "execution_count": 34,
   "metadata": {},
   "outputs": [
    {
     "name": "stdout",
     "output_type": "stream",
     "text": [
      "[[0, 1, 2, 3, 4], [0, 1, 2, 3, 4], [0, 1, 2, 3, 4], [0, 1, 2, 3, 4], [0, 1, 2, 3, 4]]\n"
     ]
    }
   ],
   "source": [
    "fruits = [\"apple\", \"banana\", \"pear\", \"grapes\"]\n",
    "y = [x for x in range(5)]\n",
    "f = [fruit for fruit in fruits if fruit != \"apple\"]\n",
    "\n",
    "# nested lists\n",
    "x = [[num for num in range(5)] for _ in range(5)]\n",
    "print(x)"
   ]
  },
  {
   "attachments": {},
   "cell_type": "markdown",
   "metadata": {},
   "source": [
    "## <span style=\"color:skyblue\">Exercise</span>"
   ]
  },
  {
   "cell_type": "code",
   "execution_count": 30,
   "metadata": {},
   "outputs": [
    {
     "name": "stdout",
     "output_type": "stream",
     "text": [
      "[0, 2, 4, 6, 8, 10, 12, 14, 16, 18]\n",
      "[[1, 3, 5, 7], [2, 4, 6, 8]]\n"
     ]
    }
   ],
   "source": [
    "# create a list with only even numbers from 1 - 20\n",
    "print([x for x in range(20) if x % 2 == 0])\n",
    "\n",
    "# transpose the list\n",
    "matrix = [[1, 2], [3,4], [5,6], [7,8]]"
   ]
  },
  {
   "attachments": {},
   "cell_type": "markdown",
   "metadata": {},
   "source": [
    "## Functional Programming\n",
    "- state is immutable\n"
   ]
  },
  {
   "cell_type": "code",
   "execution_count": 4,
   "metadata": {},
   "outputs": [
    {
     "name": "stdout",
     "output_type": "stream",
     "text": [
      "{'name': 'bob', 'age': 10, 'breed': 'shih tzu'}\n"
     ]
    }
   ],
   "source": [
    "def create_dog(name, age, breed):\n",
    "    return {\n",
    "        \"name\": name,\n",
    "        \"age\": age,\n",
    "        \"breed\": breed\n",
    "    }\n",
    "\n",
    "dog1 = create_dog(\"bob\", 5, \"shih tzu\")\n",
    "dog2 = create_dog(\"choco\", 12, \"husky\")\n",
    "\n",
    "def increment_age(dog, num_years):\n",
    "    return {\n",
    "        **dog,\n",
    "        \"age\": dog[\"age\"] + num_years\n",
    "    }\n",
    "\n",
    "dog1 = increment_age(dog1, 5)\n",
    "print(dog1)\n"
   ]
  },
  {
   "attachments": {},
   "cell_type": "markdown",
   "metadata": {},
   "source": [
    "## OOP\n",
    "- Class vs Object vs Instance\n",
    "- Attributes vs Methods\n",
    "- the 'self' keyword\n",
    "- Class methods vs Instance methods\n",
    "- Inheritance\n",
    "- implementation vs client"
   ]
  },
  {
   "cell_type": "code",
   "execution_count": 10,
   "metadata": {},
   "outputs": [
    {
     "data": {
      "text/plain": [
       "'finnley jumped'"
      ]
     },
     "execution_count": 10,
     "metadata": {},
     "output_type": "execute_result"
    }
   ],
   "source": [
    "class Animal:\n",
    "    living_thing = True\n",
    "    def __init__(self, name, age):\n",
    "        self.name = name\n",
    "        self.age = age\n",
    "\n",
    "    def increment_age(self):\n",
    "        self.age += 1\n",
    "\n",
    "class Dog(Animal):\n",
    "    def __init__(self, name, age, breed):\n",
    "        super().__init__(name, age)\n",
    "        self.breed = breed\n",
    "        self.human_age = self.age * 7\n",
    "\n",
    "    def __helper__(self):\n",
    "        return f\"{self.name} says: \"\n",
    "    \n",
    "    def jump(self):\n",
    "        if self.age < 5:\n",
    "            return f\"{self.name} jumped\"\n",
    "        else:\n",
    "            return f\"{self.name} is too old to jump\"\n",
    "    \n",
    "    def test():\n",
    "        return \"booo\"\n",
    "    \n",
    "    def bark(self):\n",
    "        return self.__helper__() + \"Woof\"\n",
    "    \n",
    "    def greet(self):\n",
    "        return self.__helper__() + \"Hello\"\n",
    "    \n",
    "    def __str__(self):\n",
    "        return f\"{self.name} is a {self.breed} and is {self.age} years old\" \n",
    "\n",
    "\n",
    "d = Dog(\"finnley\", 4, \"labrador\")\n",
    "d.bark()\n",
    "d.greet()\n",
    "d.human_age\n",
    "d.jump()"
   ]
  },
  {
   "cell_type": "markdown",
   "metadata": {},
   "source": [
    "## <span style=\"color:skyblue\">Exercise</span>\n",
    "- Create a Vehicle class and think of other classes that could inherit the Vehicle class"
   ]
  }
 ],
 "metadata": {
  "kernelspec": {
   "display_name": "Python 3",
   "language": "python",
   "name": "python3"
  },
  "language_info": {
   "codemirror_mode": {
    "name": "ipython",
    "version": 3
   },
   "file_extension": ".py",
   "mimetype": "text/x-python",
   "name": "python",
   "nbconvert_exporter": "python",
   "pygments_lexer": "ipython3",
   "version": "3.11.0"
  },
  "orig_nbformat": 4
 },
 "nbformat": 4,
 "nbformat_minor": 2
}
