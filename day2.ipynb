{
 "cells": [
  {
   "attachments": {},
   "cell_type": "markdown",
   "metadata": {},
   "source": [
    "# Topics of the day\n",
    "1. Scopes\n",
    "1. Data Types\n",
    "   - Lists\n",
    "   - Dictionaries\n",
    "2. OOP\n",
    "   - Classes\n",
    "   - Attributes\n",
    "   - Methods"
   ]
  },
  {
   "attachments": {},
   "cell_type": "markdown",
   "metadata": {},
   "source": [
    "## Scopes"
   ]
  },
  {
   "cell_type": "code",
   "execution_count": 16,
   "metadata": {},
   "outputs": [
    {
     "name": "stdout",
     "output_type": "stream",
     "text": [
      "globalllll\n",
      "globalllll\n",
      "boo\n"
     ]
    }
   ],
   "source": [
    "# global variables can be accessed from anywhere\n",
    "i_am_global = \"globalllll\" \n",
    "def add():\n",
    "    print(i_am_global)\n",
    "add()\n",
    "\n",
    "# Variables defined within functions are not known outside the function\n",
    "def chicken():\n",
    "    boo = 5\n",
    "    coo = 10\n",
    "    doo = 15\n",
    "    return boo\n",
    "\n",
    "# updating the value of a global variable from within a function\n",
    "test = \"hello\"\n",
    "def rice():\n",
    "    global test\n",
    "    test = \"bye\"\n",
    "    test = \"boo\"\n",
    "    return test\n",
    "\n",
    "rice()\n",
    "print(test)"
   ]
  },
  {
   "attachments": {},
   "cell_type": "markdown",
   "metadata": {},
   "source": [
    "## Working with Lists\n",
    "### Things to take note\n",
    "- Lists are used when order matters\n",
    "- Lists should only store a single data type e.g. a list should not contain both a string and a number (even though it is technically possible in python)\n",
    "\n",
    "### Useful methods\n",
    "- pop\n",
    "- append\n",
    "\n",
    "### Useful functions\n",
    "- len"
   ]
  },
  {
   "cell_type": "code",
   "execution_count": 72,
   "metadata": {},
   "outputs": [
    {
     "name": "stdout",
     "output_type": "stream",
     "text": [
      "1\n",
      "2\n",
      "3\n",
      "4\n",
      "1\n",
      "2\n",
      "3\n",
      "4\n",
      "[2, 3, 4]\n"
     ]
    }
   ],
   "source": [
    "x = [1,2,3]\n",
    "x.append(4)\n",
    "\n",
    "# accessing elements in a list\n",
    "a = x[0] # lists are 0-index based\n",
    "b = x[1]\n",
    "c = x[2]\n",
    "# print(x[4]) # error\n",
    "\n",
    "# looping over a list\n",
    "for i in range(len(x)):\n",
    "    print(x[i])\n",
    "\n",
    "# shortcut for looping over a list\n",
    "for num in x:\n",
    "    print(num)\n",
    "\n",
    "# slicing\n",
    "m = [1,2,3,4,5,6,7,8]\n",
    "print(m[1:4])\n"
   ]
  },
  {
   "attachments": {},
   "cell_type": "markdown",
   "metadata": {},
   "source": [
    "## Exercise"
   ]
  },
  {
   "cell_type": "code",
   "execution_count": 17,
   "metadata": {},
   "outputs": [],
   "source": [
    "# 1. Sum all the numbers in the list and print it out\n",
    "# 2. Find the largest number in the list\n",
    "nums = [5,2,6,32,6,23,6,2,64]"
   ]
  },
  {
   "attachments": {},
   "cell_type": "markdown",
   "metadata": {},
   "source": [
    "## Dictionaries\n",
    "- Dictionaries are able to group related information together\n",
    "- Order has no significance\n",
    "- Can store different data types"
   ]
  },
  {
   "cell_type": "code",
   "execution_count": 26,
   "metadata": {},
   "outputs": [
    {
     "name": "stdout",
     "output_type": "stream",
     "text": [
      "honda\n"
     ]
    }
   ],
   "source": [
    "car1 = {\"brand\": \"toyoto\", \"model\": \"corola\", \"year\": 2018}\n",
    "b = car1[\"brand\"]\n",
    "m = car1[\"model\"]\n",
    "y = car1[\"year\"]\n",
    "# z = car['chicken'] # error\n",
    "\n",
    "# Array of dictionaries\n",
    "car2 = {\"brand\": \"honda\", \"model\": \"vezel\", \"year\": 2012}\n",
    "car3 = {\"brand\": \"tesla\", \"model\": \"model s\", \"year\": 2020}\n",
    "cars = [car1, car2, car2]\n",
    "\n",
    "print(cars[2]['brand'])"
   ]
  },
  {
   "attachments": {},
   "cell_type": "markdown",
   "metadata": {},
   "source": [
    "## String Formatting"
   ]
  },
  {
   "cell_type": "code",
   "execution_count": 89,
   "metadata": {},
   "outputs": [
    {
     "name": "stdout",
     "output_type": "stream",
     "text": [
      "Hi John Lee! Nice to meet you!\n"
     ]
    }
   ],
   "source": [
    "first_name = \"John\"\n",
    "last_name = \"Lee\"\n",
    "\n",
    "txt = f\"Hi {first_name} {last_name}! Nice to meet you!\"\n",
    "print(txt)"
   ]
  },
  {
   "attachments": {},
   "cell_type": "markdown",
   "metadata": {},
   "source": [
    "## Exercise"
   ]
  },
  {
   "cell_type": "code",
   "execution_count": 29,
   "metadata": {},
   "outputs": [],
   "source": [
    "# print each car formatted as follows: \"<brand> <model> was manufactured in <year>\""
   ]
  },
  {
   "attachments": {},
   "cell_type": "markdown",
   "metadata": {},
   "source": [
    "## Map, Filter, Reduce"
   ]
  },
  {
   "cell_type": "code",
   "execution_count": 100,
   "metadata": {},
   "outputs": [
    {
     "name": "stdout",
     "output_type": "stream",
     "text": [
      "[4, 5, 6, 7, 8]\n",
      "[1, 2, 3]\n",
      "sum 15\n"
     ]
    }
   ],
   "source": [
    "# Map\n",
    "arr = [1,2,3,4,5]\n",
    "\n",
    "def my_func(x):\n",
    "    return x + 3\n",
    "\n",
    "new_arr = list(map(my_func, arr))\n",
    "print(new_arr)\n",
    "\n",
    "def filter_func(x):\n",
    "    return x <= 3 \n",
    "# Filter\n",
    "filtered_arr = list(filter(filter_func, arr))\n",
    "print(filtered_arr)\n",
    "\n",
    "# reduce\n",
    "import functools\n",
    "\n",
    "def reducer(acc, x):\n",
    "    return acc + x\n",
    "\n",
    "sum = functools.reduce(reducer, arr)\n",
    "print(\"sum\", sum)\n"
   ]
  },
  {
   "attachments": {},
   "cell_type": "markdown",
   "metadata": {},
   "source": [
    "## Lambdas"
   ]
  },
  {
   "cell_type": "code",
   "execution_count": 101,
   "metadata": {},
   "outputs": [
    {
     "name": "stdout",
     "output_type": "stream",
     "text": [
      "[8, 9, 10, 11, 12, 13]\n"
     ]
    }
   ],
   "source": [
    "# Quick way to creating functions without names (anonymous functions)\n",
    "ls = [5,6,7,8,9,10]\n",
    "print(list(map(lambda x: x + 3, ls)))"
   ]
  },
  {
   "attachments": {},
   "cell_type": "markdown",
   "metadata": {},
   "source": [
    "## Recursion\n",
    "- Recursion means \"defining a problem in terms of itself\". This can be a very powerful tool in writing algorithms. \n",
    "- Recursion comes directly from Mathematics, where there are many examples of expressions written in terms of themselves. \n",
    "    - For example, the Fibonacci sequence is defined as: F(i) = F(i-1) + F(i-2)"
   ]
  },
  {
   "cell_type": "code",
   "execution_count": 37,
   "metadata": {},
   "outputs": [
    {
     "name": "stdout",
     "output_type": "stream",
     "text": [
      "13\n"
     ]
    }
   ],
   "source": [
    "# 1, 1, 2, 3, 5, 8, 13\n",
    "def fib(n):\n",
    "    if n == 0:\n",
    "        return 0\n",
    "    elif n == 1 or n == 2: # base case\n",
    "        return 1\n",
    "    return fib(n-1) + fib(n-2)\n",
    "\n",
    "print(fib(7))"
   ]
  },
  {
   "attachments": {},
   "cell_type": "markdown",
   "metadata": {},
   "source": [
    "## Exercise\n",
    "- determine if a string is a palindrome"
   ]
  },
  {
   "cell_type": "code",
   "execution_count": 110,
   "metadata": {},
   "outputs": [
    {
     "name": "stdout",
     "output_type": "stream",
     "text": [
      "200\n"
     ]
    }
   ],
   "source": [
    "def is_palindrome(s):\n",
    "    if len(s) <= 1:\n",
    "        return True\n",
    "    return s[0] == s[-1] and is_palindrome(s[1::-2])\n",
    "\n",
    "is_palindrome(\"heh\")\n",
    "\n",
    "arr = [4,100,2,200,3]\n",
    "def getMax(arr):\n",
    "    if len(arr) == 0:\n",
    "        return 0\n",
    "    return max(arr[0], getMax(arr[1:]))\n",
    "\n",
    "print(getMax(arr))"
   ]
  },
  {
   "attachments": {},
   "cell_type": "markdown",
   "metadata": {},
   "source": [
    "## Homework\n",
    "- Implement map, filter and reduce using recursion"
   ]
  },
  {
   "attachments": {},
   "cell_type": "markdown",
   "metadata": {},
   "source": [
    "## OOP\n",
    "- Object-oriented programming (OOP) is a computer programming model that organizes software design around data, or objects, rather than functions and logic."
   ]
  },
  {
   "cell_type": "code",
   "execution_count": 32,
   "metadata": {},
   "outputs": [
    {
     "name": "stdout",
     "output_type": "stream",
     "text": [
      "4\n"
     ]
    }
   ],
   "source": [
    "class Car:\n",
    "    num_wheels = 4 # attribute\n",
    "    def __init__(self, brand): # initializer\n",
    "        self.brand = brand \n",
    "\n",
    "new_car = Car(\"honda\")\n",
    "print(new_car.num_wheels)"
   ]
  },
  {
   "cell_type": "code",
   "execution_count": null,
   "metadata": {},
   "outputs": [],
   "source": []
  }
 ],
 "metadata": {
  "kernelspec": {
   "display_name": "Python 3",
   "language": "python",
   "name": "python3"
  },
  "language_info": {
   "codemirror_mode": {
    "name": "ipython",
    "version": 3
   },
   "file_extension": ".py",
   "mimetype": "text/x-python",
   "name": "python",
   "nbconvert_exporter": "python",
   "pygments_lexer": "ipython3",
   "version": "3.11.0"
  },
  "orig_nbformat": 4
 },
 "nbformat": 4,
 "nbformat_minor": 2
}
