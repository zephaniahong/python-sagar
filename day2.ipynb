{
 "cells": [
  {
   "attachments": {},
   "cell_type": "markdown",
   "metadata": {},
   "source": [
    "# Topics of the day\n",
    "1. Scopes\n",
    "1. Data Types\n",
    "   - Lists\n",
    "   - Dictionaries\n",
    "3. Recursion"
   ]
  },
  {
   "attachments": {},
   "cell_type": "markdown",
   "metadata": {},
   "source": [
    "## Scopes"
   ]
  },
  {
   "cell_type": "code",
   "execution_count": 112,
   "metadata": {},
   "outputs": [
    {
     "name": "stdout",
     "output_type": "stream",
     "text": [
      "globalllll\n"
     ]
    }
   ],
   "source": [
    "# global variables can be accessed from anywhere\n",
    "i_am_global = \"globalllll\" \n",
    "\n",
    "def add():\n",
    "    print(i_am_global)\n",
    "\n",
    "add()\n"
   ]
  },
  {
   "cell_type": "code",
   "execution_count": 115,
   "metadata": {},
   "outputs": [
    {
     "data": {
      "text/plain": [
       "5"
      ]
     },
     "execution_count": 115,
     "metadata": {},
     "output_type": "execute_result"
    }
   ],
   "source": [
    "# Variables defined within functions are not known outside the function\n",
    "def chicken():\n",
    "    boo = 5\n",
    "    coo = 10\n",
    "    doo = 15\n",
    "    return boo\n",
    "\n",
    "chicken()\n"
   ]
  },
  {
   "cell_type": "code",
   "execution_count": 120,
   "metadata": {},
   "outputs": [
    {
     "name": "stdout",
     "output_type": "stream",
     "text": [
      "bye\n"
     ]
    }
   ],
   "source": [
    "# updating the value of a global variable from within a function\n",
    "test = \"hello\"\n",
    "def rice():\n",
    "    global test\n",
    "    test = \"bye\"\n",
    "    # test = \"boo\"\n",
    "    # return test\n",
    "\n",
    "\n",
    "rice()\n",
    "print(test)"
   ]
  },
  {
   "attachments": {},
   "cell_type": "markdown",
   "metadata": {},
   "source": [
    "## Working with Lists\n",
    "### Things to take note\n",
    "- Lists are used when order matters\n",
    "- Lists should only store a single data type e.g. a list should not contain both a string and a number (even though it is technically possible in python)\n",
    "\n",
    "### Useful methods\n",
    "- pop\n",
    "- append\n",
    "\n",
    "### Useful functions\n",
    "- len"
   ]
  },
  {
   "cell_type": "code",
   "execution_count": 72,
   "metadata": {},
   "outputs": [
    {
     "name": "stdout",
     "output_type": "stream",
     "text": [
      "1\n",
      "2\n",
      "3\n",
      "4\n",
      "1\n",
      "2\n",
      "3\n",
      "4\n",
      "[2, 3, 4]\n"
     ]
    }
   ],
   "source": [
    "x = [1,2,3]\n",
    "x.append(4)\n",
    "\n",
    "# accessing elements in a list\n",
    "a = x[0] # lists are 0-index based\n",
    "b = x[1]\n",
    "c = x[2]\n",
    "# print(x[4]) # error\n",
    "\n",
    "# slicing\n",
    "m = [1,2,3,4,5,6,7,8]\n",
    "print(m[1:4])\n",
    "\n",
    "\n",
    "\n"
   ]
  },
  {
   "cell_type": "code",
   "execution_count": 127,
   "metadata": {},
   "outputs": [
    {
     "name": "stdout",
     "output_type": "stream",
     "text": [
      "10\n",
      "2\n",
      "100\n"
     ]
    }
   ],
   "source": [
    "# for i in range(10):\n",
    "#     print(i)\n",
    "\n",
    "x = [10,2,100]\n",
    "# print(x[0]) # 10\n",
    "# print(x[1])\n",
    "# print(x[2])\n",
    "# looping over a list\n",
    "# for i in range(len(x)):\n",
    "#     print(x[i])\n",
    "\n",
    "# shortcut for looping over a list\n",
    "for chicken in x:\n",
    "    print(chicken)"
   ]
  },
  {
   "attachments": {},
   "cell_type": "markdown",
   "metadata": {},
   "source": [
    "## Exercise"
   ]
  },
  {
   "cell_type": "code",
   "execution_count": 128,
   "metadata": {},
   "outputs": [
    {
     "name": "stdout",
     "output_type": "stream",
     "text": [
      "146\n"
     ]
    }
   ],
   "source": [
    "# 1. Sum all the numbers in the list and print it out\n",
    "# 2. Find the largest number in the list\n",
    "nums = [5,2,6,32,6,23,6,2,64]\n",
    "\n",
    "total = 0\n",
    "for num in nums:\n",
    "    # total = total + num\n",
    "    total += num\n",
    "print(total)"
   ]
  },
  {
   "attachments": {},
   "cell_type": "markdown",
   "metadata": {},
   "source": [
    "## Dictionaries\n",
    "- Dictionaries are able to group related information together\n",
    "- Order has no significance\n",
    "- Can store different data types"
   ]
  },
  {
   "cell_type": "code",
   "execution_count": 129,
   "metadata": {},
   "outputs": [
    {
     "name": "stdout",
     "output_type": "stream",
     "text": [
      "tesla\n"
     ]
    }
   ],
   "source": [
    "car1 = {\"brand\": \"toyoto\", \n",
    "        \"model\": \"corola\", \n",
    "        \"year\": 2018\n",
    "        }\n",
    "b = car1[\"brand\"] #toyota\n",
    "m = car1[\"model\"] #corola\n",
    "y = car1[\"year\"] #2018\n",
    "# z = car['chicken'] # error\n",
    "\n",
    "rice = \"brand\"\n",
    "car1[rice] #toyoya\n",
    "\n",
    "# Array of dictionaries\n",
    "car2 = {\"brand\": \"honda\", \"model\": \"vezel\", \"year\": 2012}\n",
    "car3 = {\"model\": \"model s\", \"year\": 2020, \"brand\": \"tesla\"}\n",
    "cars = [car1, car2, car3]\n",
    "\n",
    "print(cars[2]['brand'])"
   ]
  },
  {
   "attachments": {},
   "cell_type": "markdown",
   "metadata": {},
   "source": [
    "## String Formatting"
   ]
  },
  {
   "cell_type": "code",
   "execution_count": 130,
   "metadata": {},
   "outputs": [
    {
     "name": "stdout",
     "output_type": "stream",
     "text": [
      "Hi John Lee! Nice to meet you!\n"
     ]
    }
   ],
   "source": [
    "first_name = \"John\"\n",
    "last_name = \"Lee\"\n",
    "\n",
    "txt = f\"Hi {first_name} {last_name}! Nice to meet you!\"\n",
    "\n",
    "\n",
    "print(txt)"
   ]
  },
  {
   "attachments": {},
   "cell_type": "markdown",
   "metadata": {},
   "source": [
    "## Exercise"
   ]
  },
  {
   "cell_type": "code",
   "execution_count": 29,
   "metadata": {},
   "outputs": [],
   "source": [
    "# print each car formatted as follows: \"<brand> <model> was manufactured in <year>\""
   ]
  }
 ],
 "metadata": {
  "kernelspec": {
   "display_name": "Python 3",
   "language": "python",
   "name": "python3"
  },
  "language_info": {
   "codemirror_mode": {
    "name": "ipython",
    "version": 3
   },
   "file_extension": ".py",
   "mimetype": "text/x-python",
   "name": "python",
   "nbconvert_exporter": "python",
   "pygments_lexer": "ipython3",
   "version": "3.11.0"
  },
  "orig_nbformat": 4
 },
 "nbformat": 4,
 "nbformat_minor": 2
}
