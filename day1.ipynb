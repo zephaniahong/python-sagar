{
 "cells": [
  {
   "cell_type": "code",
   "execution_count": 32,
   "metadata": {},
   "outputs": [
    {
     "name": "stdout",
     "output_type": "stream",
     "text": [
      "I am less than 2\n"
     ]
    }
   ],
   "source": [
    "import random\n",
    "\n",
    "random_value = random.random() * 10 # random number between 0 and 10\n",
    "random_value =  92 \n",
    "if random_value < 100: \n",
    "    print(\"I am less than 2\")\n",
    "elif random_value < 95:\n",
    "    print(\"I am less than 3\")\n",
    "elif random_value < 90:\n",
    "    print(\"I am greater than 3 but less than 7\")\n",
    "else:\n",
    "    print(\"i am greater than 7\")"
   ]
  },
  {
   "cell_type": "code",
   "execution_count": 23,
   "metadata": {},
   "outputs": [],
   "source": [
    "b = True\n",
    "c = False\n",
    "d = 10 < 5 # False\n",
    "e = not True # False\n",
    "f = not False # True\n",
    "g = 10 < 5 and 5 != 3\n",
    "\n",
    "# <, < =, >, >=, not, and, or, !="
   ]
  },
  {
   "cell_type": "code",
   "execution_count": 90,
   "metadata": {},
   "outputs": [],
   "source": [
    "# for i in range(1, 10):\n",
    "#     print(i)\n",
    "\n",
    "i = 0\n",
    "while i < 10:\n",
    "    # print(i)\n",
    "    i += 1 # i = i + 1\n",
    "# a while loop can do whatever a for loop can do, but a for loop cannot do whatever a while loop can do\n",
    "\n",
    "\n",
    "x = 5\n",
    "x = 10"
   ]
  },
  {
   "cell_type": "code",
   "execution_count": 102,
   "metadata": {},
   "outputs": [
    {
     "name": "stdout",
     "output_type": "stream",
     "text": [
      "scissors\n",
      "paper\n"
     ]
    }
   ],
   "source": [
    "def getHand():\n",
    "    # need a random number 1, 2, or 3\n",
    "    # will get a float from random.random()\n",
    "    random_num = int(random.random() * 3) # 0 1 2\n",
    "\n",
    "    if random_num == 0:\n",
    "        return 'scissors'\n",
    "    elif random_num == 1:\n",
    "        return 'paper'\n",
    "    else:\n",
    "        return 'stone'\n",
    "\n",
    "player1 = getHand()\n",
    "player2 = getHand()\n",
    "while player1 == player2:\n",
    "    player2 = getHand()\n",
    "print(player1)\n",
    "print(player2)\n"
   ]
  },
  {
   "cell_type": "code",
   "execution_count": 88,
   "metadata": {},
   "outputs": [
    {
     "name": "stdout",
     "output_type": "stream",
     "text": [
      "0.4361890830513907\n",
      "1.308567249154172\n",
      "1\n"
     ]
    }
   ],
   "source": [
    "random_num = random.random()\n",
    "print(random_num)\n",
    "x = random_num * 3\n",
    "print(x)\n",
    "i = int(x)\n",
    "print(i)"
   ]
  },
  {
   "cell_type": "code",
   "execution_count": null,
   "metadata": {},
   "outputs": [],
   "source": []
  }
 ],
 "metadata": {
  "kernelspec": {
   "display_name": "Python 3",
   "language": "python",
   "name": "python3"
  },
  "language_info": {
   "codemirror_mode": {
    "name": "ipython",
    "version": 3
   },
   "file_extension": ".py",
   "mimetype": "text/x-python",
   "name": "python",
   "nbconvert_exporter": "python",
   "pygments_lexer": "ipython3",
   "version": "3.11.0"
  },
  "orig_nbformat": 4
 },
 "nbformat": 4,
 "nbformat_minor": 2
}
